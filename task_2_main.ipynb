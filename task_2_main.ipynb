{
  "nbformat": 4,
  "nbformat_minor": 0,
  "metadata": {
    "colab": {
      "name": "task_2_main.ipynb",
      "provenance": [],
      "collapsed_sections": [],
      "toc_visible": true
    },
    "kernelspec": {
      "name": "python3",
      "language": "python",
      "display_name": "Python 3"
    },
    "language_info": {
      "codemirror_mode": {
        "name": "ipython",
        "version": 3
      },
      "file_extension": ".py",
      "mimetype": "text/x-python",
      "name": "python",
      "nbconvert_exporter": "python",
      "pygments_lexer": "ipython3",
      "version": "3.8.6"
    }
  },
  "cells": [
    {
      "cell_type": "markdown",
      "metadata": {
        "id": "2Bgiq_D7pCIV"
      },
      "source": [
        "### Coursework coding instructions (please also see full coursework spec)\n",
        "\n",
        "Please choose if you want to do either Task 1 or Task 2. You should write your report about one task only.\n",
        "\n",
        "For the task you choose you will need to do two approaches:\n",
        "  - Approach 1, which can use use pre-trained embeddings / models\n",
        "  - Approach 2, which should not use any pre-trained embeddings or models\n",
        "We should be able to run both approaches from the same colab file\n",
        "\n",
        "#### Running your code:\n",
        "  - Your models should run automatically when running your colab file without further intervention\n",
        "  - For each task you should automatically output the performance of both models\n",
        "  - Your code should automatically download any libraries required\n",
        "\n",
        "#### Structure of your code:\n",
        "  - You are expected to use the 'train', 'eval' and 'model_performance' functions, although you may edit these as required\n",
        "  - Otherwise there are no restrictions on what you can do in your code\n",
        "\n",
        "#### Documentation:\n",
        "  - You are expected to produce a .README file summarising how you have approached both tasks\n",
        "\n",
        "#### Reproducibility:\n",
        "  - Your .README file should explain how to replicate the different experiments mentioned in your report\n",
        "\n",
        "Good luck! We are really looking forward to seeing your reports and your model code!"
      ]
    },
    {
      "cell_type": "code",
      "metadata": {
        "colab": {
          "base_uri": "https://localhost:8080/"
        },
        "id": "ctZiGPdWpCJI",
        "outputId": "1c86cbc9-3d71-4271-eb8e-3d9723227bed"
      },
      "source": [
        "# For any packages that Colab does not provide auotmatically you will also need to install these below, e.g.:\n",
        "#! pip install torch\n",
        "\n",
        "# In local env, all the files are in the repo already, no need to fetch\n",
        "import os\n",
        "colab_env = os.getcwd() == '/content'\n",
        "\n",
        "try:\n",
        "  open('glove.6B.50d.txt', 'r')\n",
        "except FileNotFoundError:\n",
        "  colab_env = True\n",
        "\n",
        "if colab_env:\n",
        "  # Get word embeddings required for your code, e.g.\n",
        "  !wget -q --show -progress http://nlp.stanford.edu/data/glove.6B.zip -O glove.zip\n",
        "  !unzip glove.zip\n",
        "\n",
        "  # Get test and train data files\n",
        "  !wget -q --show-progress https://raw.githubusercontent.com/matt-malarkey/nlp-cw-data/master/dev.csv\n",
        "  !wget -q --show-progress https://raw.githubusercontent.com/matt-malarkey/nlp-cw-data/master/train.csv\n"
      ],
      "execution_count": 23,
      "outputs": [
        {
          "output_type": "stream",
          "text": [
            "glove.zip             0%[                    ]   4.71M  2.38MB/s               ^C\n",
            "Archive:  glove.zip\n",
            "  End-of-central-directory signature not found.  Either this file is not\n",
            "  a zipfile, or it constitutes one disk of a multi-part archive.  In the\n",
            "  latter case the central directory and zipfile comment will be found on\n",
            "  the last disk(s) of this archive.\n",
            "unzip:  cannot find zipfile directory in one of glove.zip or\n",
            "        glove.zip.zip, and cannot find glove.zip.ZIP, period.\n",
            "dev.csv.1           100%[===================>] 411.99K  --.-KB/s    in 0.04s   \n",
            "train.csv.1         100%[===================>]   1.77M  --.-KB/s    in 0.1s    \n"
          ],
          "name": "stdout"
        }
      ]
    },
    {
      "cell_type": "code",
      "metadata": {
        "id": "0iA-C2dcpCJN"
      },
      "source": [
        "# Imports\n",
        "import torch\n",
        "import torch.nn as nn\n",
        "import pandas as pd\n",
        "import numpy as np\n",
        "from sklearn.feature_extraction.text import CountVectorizer\n",
        "from torch.utils.data import Dataset, random_split\n",
        "from sklearn.feature_extraction.text import TfidfTransformer\n",
        "from sklearn.model_selection import train_test_split\n",
        "from sklearn.naive_bayes import MultinomialNB\n",
        "import torch.optim as optim\n",
        "import codecs\n",
        "import tqdm"
      ],
      "execution_count": 34,
      "outputs": []
    },
    {
      "cell_type": "code",
      "metadata": {
        "id": "uWs9IykGpCJQ"
      },
      "source": [
        "# Setting random seed and device\n",
        "SEED = 1\n",
        "device = torch.device(\"cuda:0\" if torch.cuda.is_available() else \"cpu\")\n",
        "torch.manual_seed(SEED)\n",
        "torch.cuda.manual_seed(SEED)\n",
        "torch.backends.cudnn.deterministic = True"
      ],
      "execution_count": 35,
      "outputs": []
    },
    {
      "cell_type": "code",
      "metadata": {
        "id": "ITI-7C13pCJS"
      },
      "source": [
        "# Load data\n",
        "train_df = pd.read_csv('train.csv')\n",
        "test_df = pd.read_csv('dev.csv')"
      ],
      "execution_count": 36,
      "outputs": []
    },
    {
      "cell_type": "code",
      "metadata": {
        "id": "dC4ZVEmBpCJT"
      },
      "source": [
        "# Number of epochs\n",
        "epochs = 10\n",
        "\n",
        "# Proportion of training data for train compared to dev\n",
        "train_proportion = 0.8"
      ],
      "execution_count": 37,
      "outputs": []
    },
    {
      "cell_type": "markdown",
      "metadata": {
        "id": "q3FGvU_UpCJU"
      },
      "source": [
        "#### Approach 1: Using pre-trained representations"
      ]
    },
    {
      "cell_type": "code",
      "metadata": {
        "id": "u9mZ3V13pCJW"
      },
      "source": [
        "# We define our training loop\n",
        "def train(train_iter, dev_iter, model, number_epoch):\n",
        "  \"\"\"\n",
        "  Training loop for the model, which calls on eval to evaluate after each epoch\n",
        "  \"\"\"\n",
        "\n",
        "  print(\"Training model.\")\n",
        "\n",
        "  for epoch in range(1, number_epoch+1):\n",
        "    model.train()\n",
        "\n",
        "    epoch_loss = 0\n",
        "    epoch_correct = 0\n",
        "    no_observations = 0  # Observations used for training so far\n",
        "\n",
        "    for batch in train_iter:\n",
        "      feature, target = batch\n",
        "      feature, target = feature.to(device), target.to(device)\n",
        "\n",
        "      # for RNN:\n",
        "      model.batch_size = target.shape[0]\n",
        "      no_observations = no_observations + target.shape[0]\n",
        "      model.hidden = model.init_hidden()\n",
        "\n",
        "      predictions = model(feature).squeeze(1)\n",
        "      optimizer.zero_grad()\n",
        "      loss = loss_fn(predictions, target)\n",
        "\n",
        "      correct, __ = model_performance(np.argmax(predictions.detach().cpu().numpy(), axis=1), target.detach().cpu().numpy())\n",
        "\n",
        "      loss.backward()\n",
        "      optimizer.step()\n",
        "\n",
        "      epoch_loss += loss.item()*target.shape[0]\n",
        "      epoch_correct += correct\n",
        "\n",
        "      valid_loss, valid_acc, __, __ = eval(dev_iter, model)\n",
        "\n",
        "      epoch_loss, epoch_acc = epoch_loss / no_observations, epoch_correct / no_observations\n",
        "      print(f'| Epoch: {epoch:02} | Train Loss: {epoch_loss:.2f} | Train Accuracy: {epoch_acc:.2f} | \\\n",
        "      Val. Loss: {valid_loss:.2f} | Val. Accuracy: {valid_acc:.2f} |')"
      ],
      "execution_count": 38,
      "outputs": []
    },
    {
      "cell_type": "code",
      "metadata": {
        "id": "h4TIRKC0pCJZ"
      },
      "source": [
        "# We evaluate performance on our dev set\n",
        "def eval(data_iter, model):\n",
        "  \"\"\"\n",
        "  Evaluating model performance on the dev set\n",
        "  \"\"\"\n",
        "  model.eval()\n",
        "  epoch_loss = 0\n",
        "  epoch_correct = 0\n",
        "  pred_all = []\n",
        "  trg_all = []\n",
        "  no_observations = 0\n",
        "\n",
        "  with torch.no_grad():\n",
        "    for batch in data_iter:\n",
        "      feature, target = batch\n",
        "\n",
        "      feature, target = feature.to(device), target.to(device)\n",
        "\n",
        "      # for RNN:\n",
        "      model.batch_size = target.shape[0]\n",
        "      no_observations = no_observations + target.shape[0]\n",
        "      model.hidden = model.init_hidden()\n",
        "\n",
        "      predictions = model(feature).squeeze(1)\n",
        "      loss = loss_fn(predictions, target)\n",
        "\n",
        "      # We get the mse\n",
        "      pred, trg = predictions.detach().cpu().numpy(), target.detach().cpu().numpy()\n",
        "      correct, __ = model_performance(np.argmax(pred, axis=1), trg)\n",
        "\n",
        "      epoch_loss += loss.item()*target.shape[0]\n",
        "      epoch_correct += correct\n",
        "      pred_all.extend(pred)\n",
        "      trg_all.extend(trg)\n",
        "\n",
        "  return epoch_loss/no_observations, epoch_correct/no_observations, np.array(pred_all), np.array(trg_all)"
      ],
      "execution_count": 39,
      "outputs": []
    },
    {
      "cell_type": "code",
      "metadata": {
        "id": "iI3iXWnMpCJb"
      },
      "source": [
        "# How we print the model performance\n",
        "def model_performance(output, target, print_output=False):\n",
        "  \"\"\"\n",
        "  Returns accuracy per batch, i.e. if you get 8/10 right, this returns 0.8, NOT 8\n",
        "  \"\"\"\n",
        "\n",
        "  correct_answers = (output == target)\n",
        "  correct = sum(correct_answers)\n",
        "  acc = np.true_divide(correct,len(output))\n",
        "\n",
        "  if print_output:\n",
        "    print(f'| Acc: {acc:.2f} ')\n",
        "\n",
        "  return correct, acc"
      ],
      "execution_count": 40,
      "outputs": []
    },
    {
      "cell_type": "code",
      "metadata": {
        "id": "-opM9TDlpCJd"
      },
      "source": [
        "# To create our vocab\n",
        "def pre(word):\n",
        "  # if len(word) > 2 and word[0] == '<' and word[-2] == '/' and word[-1] == '>' :\n",
        "  #   word = word[1:-2]\n",
        "  return word.lower()\n",
        "\n",
        "def create_vocab(data):\n",
        "  \"\"\"\n",
        "  Creating a corpus of all the tokens used\n",
        "  \"\"\"\n",
        "  # Let us put the tokenized corpus in a list\n",
        "  tokenized_corpus = [[pre(w) for w in s.split()] for s in data]\n",
        "\n",
        "  # Create single list of all vocabulary\n",
        "  vocabulary = []\n",
        "  for sentence in tokenized_corpus:\n",
        "    for token in sentence:\n",
        "      if token not in vocabulary:\n",
        "        vocabulary.append(token)\n",
        "\n",
        "  return vocabulary, tokenized_corpus"
      ],
      "execution_count": 47,
      "outputs": []
    },
    {
      "cell_type": "code",
      "metadata": {
        "id": "1oHN7atmpCJi"
      },
      "source": [
        "# Used for collating our observations into minibatches:\n",
        "def collate_fn_padd(batch):\n",
        "  \"\"\"\n",
        "  We add padding to our minibatches and create tensors for our model\n",
        "  \"\"\"\n",
        "  batch_labels = [l for f, l in batch]\n",
        "  batch_features = [f for f, l in batch]\n",
        "\n",
        "  batch_features_len = [len(f) for f, l in batch]\n",
        "\n",
        "  seq_tensor = torch.zeros((len(batch), max(batch_features_len))).long()\n",
        "\n",
        "  for idx, (seq, seqlen) in enumerate(zip(batch_features, batch_features_len)):\n",
        "    seq_tensor[idx, :seqlen] = torch.LongTensor(seq)\n",
        "\n",
        "  batch_labels = torch.LongTensor(batch_labels)\n",
        "\n",
        "  return seq_tensor, batch_labels\n",
        "\n",
        "# We create a Dataset so we can create minibatches\n",
        "class Task2Dataset(Dataset):\n",
        "\n",
        "  def __init__(self, train_data, labels):\n",
        "    self.x_train = train_data\n",
        "    self.y_train = labels\n",
        "\n",
        "  def __len__(self):\n",
        "    return len(self.y_train)\n",
        "\n",
        "  def __getitem__(self, item):\n",
        "    return self.x_train[item], self.y_train[item]"
      ],
      "execution_count": 48,
      "outputs": []
    },
    {
      "cell_type": "code",
      "metadata": {
        "id": "8C1uu91ZpCJm"
      },
      "source": [
        "class BiLSTM_classification(nn.Module):\n",
        "\n",
        "  def __init__(self, embedding_dim, hidden_dim, vocab_size, batch_size, device):\n",
        "    super(BiLSTM_classification, self).__init__()\n",
        "    self.hidden_dim = hidden_dim\n",
        "    self.embedding_dim = embedding_dim\n",
        "    self.device = device\n",
        "    self.batch_size = batch_size\n",
        "    self.embedding = nn.Embedding(vocab_size, embedding_dim, padding_idx=0)\n",
        "\n",
        "    # The LSTM takes word embeddings as inputs, and outputs hidden states\n",
        "    # with dimensionality hidden_dim.\n",
        "    self.lstm = nn.LSTM(embedding_dim, hidden_dim, bidirectional=True)\n",
        "\n",
        "    # The linear layer that maps from hidden state space to tag space\n",
        "    self.hidden2label = nn.Linear(hidden_dim * 2, 3)\n",
        "    self.hidden = self.init_hidden()\n",
        "\n",
        "  def init_hidden(self):\n",
        "    # Before we've done anything, we dont have any hidden state.\n",
        "    # Refer to the Pytorch documentation to see exactly why they have this dimensionality.\n",
        "    # The axes semantics are (num_layers * num_directions, minibatch_size, hidden_dim)\n",
        "    return torch.zeros(2, self.batch_size, self.hidden_dim).to(self.device), \\\n",
        "           torch.zeros(2, self.batch_size, self.hidden_dim).to(self.device)\n",
        "\n",
        "  def forward(self, sentence):\n",
        "    embedded = self.embedding(sentence)\n",
        "    embedded = embedded.permute(1, 0, 2)\n",
        "\n",
        "    lstm_out, self.hidden = self.lstm(\n",
        "        embedded.view(len(embedded), self.batch_size, self.embedding_dim), self.hidden)\n",
        "\n",
        "    out = self.hidden2label(lstm_out[-1])\n",
        "    return out"
      ],
      "execution_count": 49,
      "outputs": []
    },
    {
      "cell_type": "code",
      "metadata": {
        "colab": {
          "base_uri": "https://localhost:8080/"
        },
        "id": "3tvo0qlzpCJq",
        "outputId": "ae9f1765-3b51-4cf0-eacf-9ac0560d8045"
      },
      "source": [
        "## Approach 1 code, using functions defined above:\n",
        "\n",
        "# We set our training data and test data\n",
        "training_data = train_df['original1']\n",
        "test_data = test_df['original1']\n",
        "\n",
        "# Creating word vectors\n",
        "training_vocab, training_tokenized_corpus = create_vocab(training_data)\n",
        "test_vocab, test_tokenized_corpus = create_vocab(test_data)\n",
        "\n",
        "# Creating joint vocab from test and train:\n",
        "joint_vocab, joint_tokenized_corpus = create_vocab(pd.concat([training_data, test_data]))\n",
        "\n",
        "print(\"Vocab created.\")\n",
        "\n",
        "# We create representations for our tokens\n",
        "wvecs = []\n",
        "word2idx = []\n",
        "idx2word = []\n",
        "\n",
        "# This is a large file, it will take a while to load in the memory!\n",
        "with codecs.open('glove.6B.100d.txt', 'r','utf-8') as f:\n",
        "  index = 1\n",
        "  for line in f.readlines():\n",
        "    # Ignore the first line - first line typically contains vocab, dimensionality\n",
        "    if len(line.strip().split()) > 3:\n",
        "      word = line.strip().split()[0]\n",
        "      if word in joint_vocab:\n",
        "        (word, vec) = (word, list(map(float,line.strip().split()[1:])))\n",
        "        wvecs.append(vec)\n",
        "        word2idx.append((word, index))\n",
        "        idx2word.append((index, word))\n",
        "        index += 1\n",
        "\n",
        "\n",
        "wvecs = np.array(wvecs)\n",
        "word2idx = dict(word2idx)\n",
        "idx2word = dict(idx2word)\n",
        "\n",
        "unrec = []\n",
        "vectorized_seqs = [[word2idx[tok] for tok in seq if tok in word2idx] for seq in training_tokenized_corpus]\n",
        "for seq in training_tokenized_corpus:\n",
        "  for tok in seq:\n",
        "    if tok not in word2idx:\n",
        "      unrec.append(tok)\n",
        "print(f\"did not find embeddings for these words: {unrec}\")\n",
        "\n",
        "\n",
        "INPUT_DIM = len(word2idx)\n",
        "EMBEDDING_DIM = 100\n",
        "BATCH_SIZE = 32\n",
        "\n",
        "model = BiLSTM_classification(EMBEDDING_DIM, 50, INPUT_DIM, BATCH_SIZE, device)\n",
        "print(\"Model initialised.\")\n",
        "\n",
        "model.to(device)\n",
        "# We provide the model with our embeddings\n",
        "model.embedding.weight.data.copy_(torch.from_numpy(wvecs))\n",
        "\n",
        "feature = vectorized_seqs\n",
        "\n",
        "# 'feature' is a list of lists, each containing embedding IDs for word tokens\n",
        "train_and_dev = Task2Dataset(feature, train_df['label'])\n",
        "\n",
        "train_examples = round(len(train_and_dev)*train_proportion)\n",
        "dev_examples = len(train_and_dev) - train_examples\n",
        "\n",
        "train_dataset, dev_dataset = random_split(train_and_dev, (train_examples, dev_examples))\n",
        "\n",
        "\n",
        "train_loader = torch.utils.data.DataLoader(train_dataset, shuffle=True, batch_size=BATCH_SIZE, collate_fn=collate_fn_padd)\n",
        "dev_loader = torch.utils.data.DataLoader(dev_dataset, batch_size=BATCH_SIZE, collate_fn=collate_fn_padd)\n",
        "\n",
        "print(\"Dataloaders created.\")\n",
        "\n",
        "loss_fn = nn.CrossEntropyLoss()\n",
        "loss_fn = loss_fn.to(device)\n",
        "\n",
        "optimizer = torch.optim.Adam(model.parameters())\n",
        "\n",
        "train(train_loader, dev_loader, model, epochs)"
      ],
      "execution_count": 50,
      "outputs": [
        {
          "output_type": "stream",
          "text": [
            "Vocab created.\n",
            "did not find embeddings for these words: ['#nomorenazi', '#nomorenazi', '#nomorenazi', '#womensmarch', '#womensmarch', '#womensmarch', '<donald', 'trump/>', 'chibok', 'chibok', 'chibok', 'regeni', 'regeni', 'regeni', '<donald', 'trump/>', '<joe', 'arpaio/>', 'myeshia', 'myeshia', 'myeshia', 'mega-colonies', 'mega-colonies', 'mega-colonies', '<historical', 'site/>', '<historical', 'site/>', '<historical', 'site/>', 'pizzagate', 'pizzagate', 'pizzagate', 'selfie', 'selfie', 'selfie', '<barron', 'trump/>', '<barron', 'trump/>', '<barron', 'trump/>', 'flip-flopping', 'flip-flopping', 'flip-flopping', '<john', 'mccain/>', '<john', 'mccain/>', 'alt-right', 'alt-right', 'alt-right', '<illegal', 'immigrants/>', '<illegal', 'immigrants/>', '<illegal', 'immigrants/>', '1928-2017', '<jimmy', 'carter/>', '1928-2017', '<jimmy', 'carter/>', '1928-2017', 'gaza-israel', 'gaza-israel', 'gaza-israel', '<saudi', 'arabia/>', '<eastern', 'ukraine/>', 'nra-approved', 'nra-approved', 'nra-approved', 'cryptocurrency', 'cryptocurrency', 'cryptocurrency', 'trump-palin-nugent-kid', 'trump-palin-nugent-kid', 'trump-palin-nugent-kid', 'three-mile-long', 'three-mile-long', 'three-mile-long', 'bad-mouth', 'bad-mouth', 'bad-mouth', 'anti-lgbtq', 'anti-lgbtq', 'anti-lgbtq', 'vision-mexico', 'vision-mexico', 'vision-mexico', 'affirmative-action', 'affirmative-action', 'affirmative-action', '<bbc', 'news/>', '<maxine', 'waters/>', '<maxine', 'waters/>', '<witch', 'hunt/>', '<witch', 'hunt/>', '<witch', 'hunt/>', '<space', 'force/>', '<space', 'force/>', '<space', 'force/>', 'pro-doug', 'pro-doug', 'pro-doug', 'manassian', 'manassian', 'manassian', '<artificial', 'intelligence/>', '<artificial', 'intelligence/>', '<third', 'world/>', 'alt-left', 'alt-left', 'alt-left', 'alt-right', 'alt-right', 'alt-right', 'alt-right', 'warmbier', 'warmbier', 'warmbier', '<reince', 'priebus/>', 'scaramucci', '<reince', 'priebus/>', 'scaramucci', '<reince', 'priebus/>', 'scaramucci', '<north', 'korea/>', '<united', 'kingdom/>', '<united', 'kingdom/>', '<vladimir', 'putin/>', '<vladimir', 'putin/>', '<vladimir', 'putin/>', 'anti-trump', 'anti-trump', 'anti-trump', 'anti-trump', 'anti-trump', 'anti-trump', 'not-so-big', 'not-so-big', 'not-so-big', 'shulkin', 'shulkin', 'shulkin', '<roy', 'moore/>', '<roy', 'moore/>', 'at&amp;t', 'at&amp;t', 'at&amp;t', 'full-throttle', 'trump-russia', 'full-throttle', 'trump-russia', 'full-throttle', 'trump-russia', '<saudi', 'arabia/>', 'ex-pm', 'ex-pm', 'ex-pm', '<barack', 'obama/>', 'antifa', '<bernie', 'sanders/>', '<bill', 'maher/>', 'adulting', '<bill', 'maher/>', 'adulting', '<president', 'trump/>', 'adulting', '<bill', \"o'reilly/>\", 'ex-fbi', 'ex-fbi', 'ex-fbi', '<north', 'korea/>', '<north', 'korea/>', '<north', 'korea/>', 'huffpo', 'wapo', 'huffpo', 'wapo', 'huffpo', 'wapo', 'pornhub', 'pornhub', 'pornhub', 'brexit', 'brexit', 'brexit', 'brexit', 'brexit', 'brexit', 'brexit', 'brexit', 'brexit', 'brexit', 'brexit', 'brexit', 'brexit', 'brexit', 'brexit', 'brexit', 'bridgegate', 'bridgegate', 'bridgegate', 'brexit', 'brexit', 'brexit', '<june', '8/>', '<june', '8/>', '<north', 'korea/>', 'wannacry', '<north', 'korea/>', 'wannacry', '<north', 'korea/>', 'wannacry', 'bush-era', 'bush-era', 'bush-era', 'trump-russia', 'trump-russia', 'trump-russia', '<president', 'trump/>', '<president', 'trump/>', 'f*ck', 'nonbinary', 'nonbinary', 'nonbinary', 'at&amp;t', 'cross-subsidies', 'aecon', 'aecon', 'aecon', 'company-funded', 'company-funded', 'company-funded', 'puigdemont', '<north', 'korea/>', '<north', 'korea/>', '<mick', 'mulvaney/>', '<dead', 'end/>', '<donald', 'trump/>', '<7', 'years/>', '<7', 'years/>', '<world', 'cup/>', '<world', 'cup/>', '<world', 'cup/>', 'child-welfare', 'child-welfare', 'child-welfare', 'kuaishou', 'tencent-led', 'kuaishou', 'tencent-led', 'kuaishou', 'tencent-led', '<north', 'korea/>', '#metoo', '#metoo', '#metoo', 'anbang', 'anbang', 'anbang', 'picture-perfect', 'picture-perfect', 'picture-perfect', 'radiation-sniffing', 'radiation-sniffing', 'radiation-sniffing', '<north', 'korea/>', '<north', 'korea/>', 'choirul', 'choirul', 'choirul', '<21st', 'fox/>', 'sh*t', 'sh*t', 'sh*t', '<big', 'money/>', '<big', 'money/>', '<roy', 'moore/>', 'pro-russia', 'pro-russia', 'pro-russia', 'russian-bought', 'russian-bought', 'russian-bought', 'anti-trump', '<ted', 'cruz/>', '<roy', 'moore/>', '<roy', 'moore/>', 'reince', '<opposition', 'party/>', '<identity', 'crisis/>', 'disinviting', '<identity', 'crisis/>', 'disinviting', 'disinviting', 'creditloan', 'creditloan', 'creditloan', '<black', 'sea/>', '<black', 'sea/>', '<black', 'sea/>', 'daca', 'daca', 'daca', '<david', 'hogg/>', '<david', 'hogg/>', '<delhi', 'police/>', 'delingpole', 'delingpole', 'delingpole', '<steve', 'knight/>', 'ca-25', '<steve', 'knight/>', 'ca-25', 'ca-25', 'over-performing', 'over-performing', 'over-performing', 'countermemo', 'countermemo', 'countermemo', 'nobost', 'nobost', 'nobost', 'anti-trump', 'anti-trump', 'anti-trump', 'anti-trump', '<devin', 'nunes/>', '<devin', 'nunes/>', '<illegal', 'aliens/>', '<illegal', 'aliens/>', '<illegal', 'aliens/>', 'assault-style', 'assault-style', 'assault-style', '<dick', 'cheney/>', '<dick', 'cheney/>', 'pseudo-president', 'pseudo-president', 'pseudo-president', 'trump-themed', 'trump-themed', 'trump-themed', '<donald', 'trump/>', '<donald', 'trump/>', '<donald', 'trump/>', '<vladimir', 'putin/>', '<donald', 'trump/>', '<donald', 'trump/>', '#x27', '#x27', '#x27', 'covfefe', 'covfefe', 'covfefe', '<donald', 'trump/>', 'unfollowed', '<reince', 'priebus/>', 'twitter-obsessed', 'unfollowed', '<reince', 'priebus/>', 'twitter-obsessed', 'unfollowed', 'reince', 'twitter-obsessed', 'dotard', 'dotard', 'dotard', '<get', 'involved/>', 'soros-funded', '<get', 'involved/>', 'soros-funded', 'soros-funded', '<dr', 'congo/>', '<crown', 'jewel/>', '<crown', 'jewel/>', '<crown', 'jewel/>', '<islamic', 'state/>', '<jared', 'kushner/>', '<jared', 'kushner/>', '<jared', 'kushner/>', 'greitens', '<french', 'president/>', '<french', 'president/>', '<french', 'president/>', '<donald', 'trump/>', 'pro-growth', 'pro-environment', '<scott', 'pruitt/>', '<scott', 'pruitt/>', 'ex-ag', 'ex-ag', 'ex-ag', 'ex-aide', 'ex-aide', 'ex-aide', 'ex-clinton', 'trumpcare', 'ex-clinton', 'trumpcare', 'ex-clinton', 'trumpcare', 'ex-federal', 'ex-federal', 'ex-federal', 'ex-obama', 'ex-obama', 'ex-obama', 'ex-prosecutor', 'ex-prosecutor', 'ex-prosecutor', 'ex-rising', 'ex-rising', 'ex-rising', 'ex-serbian', 'ex-trump', 'ex-trump', 'ex-trump', '<six', 'points/>', '<six', 'points/>', '<six', 'points/>', 'exerpts', 'exerpts', 'exerpts', '<air', 'one/>', 'fact-check', 'fact-check', 'fact-check', 'famine-hit', 'famine-hit', 'famine-hit', '<fbi', 'director/>', '<fbi', 'director/>', 'russia-linked', 'russia-linked', 'russia-linked', 'trump-russia', 'trump-russia', 'trump-russia', '<first', 'amendment/>', '<first', 'amendment/>', 'ex-felons', 'ex-felons', 'ex-felons', 'de-legitimize', '<donald', 'trump/>', '<donald', 'trump/>', 'russia-related', 'russia-related', 'russia-related', 'puzder', 'puzder', 'puzder', '<james', 'murdoch/>', '<north', 'korea/>', '<north', 'korea/>', '<john', 'mccain/>', '<john', 'mccain/>', '<robert', 'mueller/>', '<robert', 'mueller/>', '<robert', 'mueller/>', '<islamic', 'state/>', '<islamic', 'state/>', '<islamic', 'state/>', '<emmanuel', 'macron/>', '<donald', 'trump/>', '<donald', 'trump/>', '<donald', 'trump/>', '<las', 'vegas/>', '<las', 'vegas/>', 'frightbart', 'frightbart', 'frightbart', '<donald', 'trump/>', '<donald', 'trump/>', '<donald', 'trump/>', 'kusher', 'kusher', 'kusher', '<fusion', 'gps/>', '<fusion', 'gps/>', 'fagggots', 'nigggers', 'fagggots', 'nigggers', 'fagggots', 'nigggers', 'brexit', 'brexit', '<george', 'soros/>', 'brexit', 'gabbanelli', 'cantabella', 'gabbanelli', 'cantabella', 'gabbanelli', 'cantabella', '<gina', 'haspel/>', '<gina', 'haspel/>', 'scaramucci', 'pre-obama', 'pre-obama', 'pre-obama', 'brexit', 'brexit', 'brexit', 'co-opts', 'alternative-facts', 'co-opts', 'alternative-facts', 'co-opts', 'alternative-facts', 'daca', 'daca', 'daca', '<stephen', 'miller/>', '<stephen', 'miller/>', 'libya-bound', 'libya-bound', 'libya-bound', '<greg', 'gianforte/>', 'body-slam', '<greg', 'gianforte/>', 'body-slam', 'gianforte', 'body-slam', 'rodchenkov', 'rodchenkov', 'rodchenkov', 'gunmam', 'gunmam', 'gunmam', 'hack-vulnerable', 'hack-vulnerable', 'hack-vulnerable', '<north', 'korea/>', '<north', 'korea/>', '<north', 'korea/>', 'brexiteers', 'brexiteers', 'brexiteers', 'hb2', 'hb2', 'hb2', 'house-approved', 'house-approved', 'house-approved', '<president', 'trump/>', '<president', 'trump/>', '<hillary', 'clinton/>', '<hillary', 'clinton/>', '<hillary', 'clinton/>', 'shithole', 'shithole', 'shithole', 'weaponizes', 'weaponizes', 'weaponizes', '<sexual', 'harassment/>', '<sexual', 'harassment/>', '<sexual', 'harassment/>', 'alt-right', 'neo-confederate', 'alt-right', 'neo-confederate', 'alt-right', 'neo-confederate', '<corey', 'stewart/>', 'co-opts', 'co-opts', 'co-opts', '<frederick', 'douglass/>', 'daca', 'daca', 'daca', 'brexit', 'brexit', 'brexit', '<hurricane', 'maria/>', '<hurricane', 'maria/>', '<first', 'amendment/>', '<first', 'amendment/>', 'election-pollsters', 'election-pollsters', 'election-pollsters', '<industrial', 'revolutions/>', '<industrial', 'revolutions/>', '<industrial', 'revolutions/>', 'infowars', 'infowars', 'infowars', '<donald', 'trump/>', '<donald', 'trump/>', '<en', 'masse/>', '<en', 'masse/>', 'trump-russia', 'trump-russia', 'trump-russia', 'non-wealthy', 'non-wealthy', 'non-wealthy', 'crownprince', 'crownprince', 'crownprince', '<u.s.', 'forces/>', '<u.s.', 'forces/>', '<u.s.', 'forces/>', 'satellite-carrying', 'satellite-carrying', 'satellite-carrying', '<islamic', 'state/>', '<islamic', 'state/>', '<islamic', 'state/>', '<enda', 'kenny/>', '<enda', 'kenny/>', '<donald', 'trump/>', '<donald', 'trump/>', '<donald', 'trump/>', '<white', 'counsel/>', '<white', 'counsel/>', '<european', 'union/>', '<european', 'union/>', '<european', 'union/>', '<jared', 'kushner/>', '<jared', 'kushner/>', '<donald', 'trump/>', '<james', 'comey/>', '<james', 'comey/>', 'trump-russia', 'trump-russia', 'trump-russia', 'anti-trump', 'anti-trump', 'anti-trump', 'trump-russia', 'trump-russia', '<jared', 'kushner/>', 'trump-russia', '<jared', 'kushner/>', '<jason', 'chaffetz/>', '<jeff', 'bezos/>', '<bernie', 'sanders/>', 'brexit', 'brexit', 'brexit', 'cave-dwellers', 'cave-dwellers', 'cave-dwellers', '<jim', 'carrey/>', '<jim', 'carrey/>', '<jimmy', 'kimmel/>', '<jimmy', 'kimmel/>', 'ex-house', 'ex-house', 'ex-house', '300mw', '300mw', '300mw', '<chelsea', 'handler/>', '<chelsea', 'handler/>', 'manafort-gates', 'manafort-gates', 'manafort-gates', '<kamala', 'harris/>', '<kamala', 'harris/>', '<kamala', 'harris/>', 'kasich-hickenlooper', 'kasich-hickenlooper', 'kasich-hickenlooper', 'daca', 'daca', 'daca', 'russia-us', 'russia-us', 'russia-us', 'kushners', 'kushners', 'kushners', 'job-starved', 'job-starved', 'job-starved', 'puzder', 'puzder', 'puzder', 'brexit', 'brexit', 'brexit', 'jae-yong', 'jae-yong', 'jae-yong', 'trump-duterte', 'trump-duterte', 'trump-duterte', 'stupid-ass', 'stupid-ass', 'stupid-ass', '<north', 'korea/>', '<north', 'korea/>', '<roy', 'moore/>', 'inaguration', 'inaguration', 'inaguration', 'shipworm', 'shipworm', 'shipworm', 'ukraines', 'ukraines', 'ukraines', 'ex-son-in-law', 'ex-son-in-law', 'ex-son-in-law', 'party-switch', 'party-switch', 'party-switch', '<police', 'officer/>', '<police', 'officer/>', '<grenfell', 'tower/>', 'frexit', 'frexit', 'frexit', '<bill', 'gates/>', 'mirzakhani', 'mirzakhani', 'mirzakhani', 'isis-controlled', 'isis-controlled', 'isis-controlled', 'brexit', 'brexit', 'brexit', '<north', 'korea/>', '<north', 'korea/>', '<north', 'korea/>', 'flip-flopped', 'flip-flopped', 'flip-flopped', '<president', 'trump/>', 'russia-trump', 'russia-trump', 'russia-trump', 'trumpcare', 'trumpcare', 'trumpcare', 'medicare-for-all', 'medicare-for-all', 'medicare-for-all', '<roy', 'moore/>', '<roy', 'moore/>', '<donald', 'trump/>', '<donald', 'trump/>', 'anti-trump', 'anti-trump', 'anti-trump', 'schlapps', 'trump-era', 'schlapps', 'trump-era', 'schlapps', 'trump-era', '<illegal', 'aliens/>', '<illegal', 'aliens/>', 'stand-your-ground', 'stand-your-ground', 'stand-your-ground', 'pro-trump', 'pro-trump', 'pro-trump', '<search', 'engine/>', '<mike', 'pompeo/>', '<mike', 'pompeo/>', '<mike', 'pompeo/>', 'anti-tillerson', '<mike', 'pompeo/>', 'anti-tillerson', '<mike', 'pompeo/>', 'anti-tillerson', 'greitens', 'greitens', 'greitens', '<donald', 'trump/>', '<donald', 'trump/>', 'mypillow', 'mypillow', 'mypillow', '<national', 'parks/>', '<national', 'school/>', 'neo-mccarthyite', 'neo-mccarthyite', 'neo-mccarthyite', 'nevertrump', 'nevertrump', 'nevertrump', 'dashcam', 'philando', 'dashcam', 'philando', 'dashcam', 'philando', 'scaramucci', 'scaramucci', 'scaramucci', '<new', 'yorker/>', '<new', 'yorker/>', 'binomo', 'binomo', '<nikki', 'haley/>', 'binomo', '<kim', 'jong-un/>', '<kim', 'un/>', '<north', 'korea/>', '<north', 'korea/>', '<north', 'korea/>', '<winter', 'olympics/>', '<south', 'korea/>', '<south', 'korea/>', '<south', 'korea/>', 'test-fires', 'trump-haters', 'trump-haters', 'trump-haters', 'npr/ipsos', 'npr/ipsos', 'npr/ipsos', '<north', 'korea/>', '<iran', 'deal/>', '<last', 'days/>', 'ex-doctor', 'guantรกnamo', 'guantรกnamo', 'guantรกnamo', 'once-sleepy', 'health-insurance', 'health-insurance', 'health-insurance', 'onpolitics', 'onpolitics', 'onpolitics', '<rudy', 'giuliani/>', '<santa', 'fe/>', '<santa', 'fe/>', 'die-in', 'die-in', 'die-in', '#metoo', '#metoo', '#metoo', '<paul', 'manafort/>', '<paul', 'ryan/>', '<donald', 'trump/>', '<donald', 'trump/>', 'trumpcare', 'doo-doo', 'trumpcare', 'doo-doo', 'trumpcare', 'doo-doo', 'daca', 'daca', 'daca', 'tipline', 'tipline', 'tipline', '<sandy', 'hook/>', '<sandy', 'hook/>', '<sandy', 'hook/>', '<melania', 'trump/>', '<melania', 'trump/>', '<michelle', 'obama/>', '<alabama', 'senate/>', '<alabama', 'senate/>', 'daca', 'daca', 'daca', 'shkreli', 'shkreli', 'shkreli', 'trumpcare', 'trumpcare', 'trumpcare', '<president', 'trump/>', '<president', 'trump/>', '<president', 'trump/>', '<president', 'trump/>', '<las', 'vegas/>', '<las', 'vegas/>', '<president', 'trump/>', 'q&amp;a', 'subreddit', '<president', 'trump/>', 'q&amp;a', 'subreddit', 'q&amp;a', 'subreddit', 'pro-kremlin', 'pro-kremlin', 'pro-kremlin', 'pro-trump', 'mcenany', 'pro-trump', 'mcenany', 'pro-trump', 'mcenany', 'trump-like', 'trump-like', 'trump-like', '<milo', 'yiannopoulos/>', '133m', '133m', '133m', 'counterspies', 'counterspies', 'counterspies', 'puzder', 'puzder', 'puzder', 'trump-russia', '<port', 'authority/>', 'fact-checks', 'fact-checks', 'fact-checks', '<donald', 'trump/>', 'republican-led', 'republican-led', 'republican-led', '<republican', 'congress/>', '<republican', 'congress/>', '<republican', 'congress/>', 'uninsuredrepublican', 'uninsuredrepublican', 'uninsuredrepublican', '<robert', 'mueller/>', '<gun', 'control/>', '<gun', 'control/>', 'harder-line', 'daca', 'harder-line', 'daca', 'harder-line', 'daca', '<capitol', 'hill/>', '<capitol', 'hill/>', '<north', 'korea/>', '<north', 'korea/>', '<donald', 'trump/>', '<richard', 'spencer/>', 'white-nationalist', '<james', 'bond/>', 'pro-trump', 'stormy-mueller-cohen', 'pro-trump', 'stormy-mueller-cohen', 'pro-trump', 'stormy-mueller-cohen', '230k', 'trump-russia', 'trump-russia', 'trump-russia', '<jeff', 'sessions/>', 'trumpism', 'trumpism', 'trumpism', '<michelle', 'wolf/>', 'putin-linked', 'putin-linked', 'putin-linked', '<north', 'korea/>', '<islamic', 'state/>', '<north', 'korea/>', '<north', 'korea/>', '<north', 'korea/>', '<robert', 'mueller/>', 'russian-linked', 'russian-linked', 'russian-linked', '<theresa', 'may/>', '<police', 'officer/>', '<police', 'officer/>', '<hillary', 'clinton/>', '<tower', 'block/>', '<tower', 'block/>', 'hjiab', 'hjiab', 'hjiab', 'trumpcare', 'trumpcare', 'trumpcare', 'scaramucci', 'scaramucci', 'scaramucci', 'scaramucci', 'scaramucci', 'scaramucci', 'daca', 'daca', 'daca', '<melissa', 'mccarthy/>', '<melissa', 'mccarthy/>', '<melissa', 'mccarthy/>', '<stephen', 'colbert/>', '<stephen', 'colbert/>', '<las', 'vegas/>', '<las', 'vegas/>', '<las', 'vegas/>', '<scott', 'walker/>', '<scott', 'walker/>', 'trump-era', 'trump-era', 'trump-era', '<sen.', 'mccain/>', 'middle-of-the-night', 'middle-of-the-night', 'middle-of-the-night', '<roy', 'moore/>', '<los', 'county/>', 'anti-trump', 'anti-trump', 'anti-trump', 'us-bound', 'us-bound', 'us-bound', 'hollyweed', 'scaramucci', 'impanels', 'anti-trump', 'anti-trump', 'anti-trump', '<kellyanne', 'conway/>', '<kellyanne', 'conway/>', '<kellyanne', 'conway/>', 'dotards', 'deplorableness', 'dotards', 'deplorableness', 'dotards', 'deplorableness', 'coffee-drinking', 'coffee-drinking', 'coffee-drinking', '#war', '#war', '#war', '<steve', 'bannon/>', '<steve', 'bannon/>', '<steve', 'bannon/>', 'daca', 'daca', '<steve', 'king/>', 'daca', 'street-friendly', 'street-friendly', 'street-friendly', 'lie-detector', 'lie-detector', 'lie-detector', '@cnn', '@cnn', '@cnn', 'rebel-planted', 'rebel-planted', 'rebel-planted', 'sychologists', 'sychologists', 'sychologists', '<taylor', 'swift/>', '<kathy', 'griffin/>', 'terror-affiliated', 'terror-affiliated', 'terror-affiliated', '<donald', 'trump/>', '<donald', 'trump/>', '<donald', 'trump/>', 'scandel', 'scandel', 'scandel', '<roy', 'moore/>', 'under-the-radar', 'under-the-radar', 'under-the-radar', 'kushners', 'kushners', 'kushners', 'us-russia', 'us-russia', 'us-russia', '<san', 'juan/>', '<san', 'juan/>', 'dubke', 'dubke', 'dubke', 'maute', 'maute', 'maute', 'under-reports', 'under-reports', 'under-reports', 'daca', 'daca', 'daca', '<gold', 'medal/>', '<gold', 'medal/>', '<gold', 'medal/>', 'voterbase', 'voterbase', 'voterbase', '<bill', 'o’reilly/>', '<bill', 'o’reilly/>', '<train', 'wreck/>', 'renewable-energy', 'renewable-energy', 'renewable-energy', 'trumpist', 'trumpist', 'trumpist', 'scaramucci', '<john', 'mccain/>', '<john', 'mccain/>', '<john', 'mccain/>', '<bernie', 'sanders/>', '<bernie', 'sanders/>', 'retweeted', 'retweeted', 'retweeted', 'bush-era', 'bush-era', 'bush-era', 'infowars.com', 'infowars.com', 'infowars.com', '!!!!!!!!!!', '!!!!!!!!!!', '!!!!!!!!!!', '<north', 'korea/>', 'trump-related', 'trump-related', 'trump-related', 'daca', 'daca', 'daca', '<town', 'hall/>', 'cyber-related', 'cyber-related', 'cyber-related', '<bbc', 'news/>', '<bbc', 'news/>', 'trump-st', 'trump-st', 'trump-st', '<las', 'vegas/>', 'destroye', 'destroye', 'destroye', '<adam', 'schiff/>', '<adam', 'schiff/>', '<adam', 'schiff/>', 'climate-denying', 'climate-denying', 'climate-denying', 'daca', 'daca', 'daca', 'ex-sheriff', 'ex-sheriff', 'ex-sheriff', 'self-branding', 'self-branding', 'self-branding', '<camp', 'david/>', '<camp', 'david/>', 'pocohontas', 'pocohontas', 'pocohontas', 'anti-globalist', 'anti-globalist', 'anti-globalist', 'trump-drawn', 'trump-drawn', 'trump-drawn', 'trump-era', 'trump-era', 'trump-era', '<witch', 'hunt/>', '<witch', 'hunt/>', '<witch', 'hunt/>', '<kim', 'un/>', '<kim', 'un/>', '<kim', 'un/>', 'daca', 'daca', 'daca', '<stormy', 'daniels/>', '<stormy', 'daniels/>', '85bn', '85bn', '85bn', 'at&amp;t', '<time', 'warner/>', 'at&amp;t', '<time', 'warner/>', 'at&amp;t', '<time', 'warner/>', '<james', 'comey/>', '<james', 'comey/>', 'bigly', 'bigly', 'bigly', '<joe', 'arpaio/>', '<congressional', 'caucus/>', '<congressional', 'caucus/>', 'disinvites', 'disinvites', 'disinvites', '<golden', 'state/>', '<iran', 'deal/>', '<iran', 'deal/>', '<iran', 'deal/>', '<sarah', 'sanders/>', '<north', 'korea/>', 'trumpcare', 'trumpcare', 'trumpcare', '<vladimir', 'putin/>', '<vladimir', 'putin/>', 'ex-intelligence', 'ex-intelligence', 'ex-intelligence', 'alt-left', 'alt-left', 'alt-left', 'brexit', '<eu', 'referendum/>', 'brexit', '<eu', 'referendum/>', 'brexit', '<miss', 'universe/>', '<miss', 'universe/>', '<james', 'comey/>', '<james', 'comey/>', 'selfies', 'selfies', 'selfies', 'over-promised', 'over-promised', 'over-promised', '<north', 'korea/>', '<capitol', 'hill/>', '<capitol', 'hill/>', '<capitol', 'hill/>', '<kirsten', 'gillibrand/>', 'anti-russia', 'anti-russia', 'anti-russia', 'cyberwars', 'cyberwars', 'cyberwars', '<hillary', 'clinton/>', 'tweetstorm', '<hillary', 'clinton/>', 'tweetstorm', '<hillary', 'clinton/>', 'tweetstorm', '<roy', 'moore/>', '<winter', 'olympics/>', '<winter', 'olympics/>', '<federal', 'reserve/>', '<federal', 'reserve/>', 'gianforte', 'gianforte', 'gianforte', 'anti-overdose', 'anti-overdose', 'anti-overdose', '<michael', 'flynn/>', '<michael', 'flynn/>', '<capitol', 'hill/>', 'shithole', 'shithole', 'shithole', '<north', 'korea/>', '<north', 'korea/>', '<north', 'korea/>', '<immigration', 'enforcement/>', '<immigration', 'enforcement/>', '<immigration', 'enforcement/>', '<iran', 'deal/>', '<iran', 'deal/>', '<iran', 'deal/>', 'alt-left', 'alt-left', 'alt-left', '<get', 'ready/>', '<south', 'korea/>', '<john', 'bolton/>', '<john', 'bolton/>', '<john', 'bolton/>', 'cnnpolitics.com', 'cnnpolitics.com', 'cnnpolitics.com', '<luther', 'strange/>', 'second-deadliest', 'second-deadliest', 'second-deadliest', 'tweetstorms', 'tweetstorms', 'tweetstorms', '<steve', 'bannon/>', '<steve', 'bannon/>', '<north', 'korea/>', '<north', 'korea/>', 'unplumbed', 'unplumbed', 'unplumbed', '<robert', 'mueller/>', 'zarrab', 'zarrab', 'zarrab', '9,103', '9,103', '9,103', '<north', 'korea/>', '<north', 'korea/>', '<north', 'korea/>', 'brexit', 'brexit', 'brexit', '<north', 'korea/>', 'iranian-made', 'iranian-made', 'iranian-made', 'campaign-report', 'campaign-report', 'campaign-report', 'small-donor', 'small-donor', 'small-donor', 'cyberweapons', 'cyberweapons', 'cyberweapons', 'cyber-hacking', 'cyber-hacking', '<u.s.', 'steel/>', 'cyber-hacking', '<ann', 'coulter/>', '<ann', 'coulter/>', '<ann', 'coulter/>', '24,473', '24,473', '24,473', 'brexit', 'brexit', 'brexit', 'anti-minority', '418m', '418m', '418m', 'cnnpolitics.com', 'cnnpolitics.com', 'cnnpolitics.com', 'pro-assad', 'pro-assad', 'pro-assad', 'election-meddling', 'election-meddling', 'election-meddling', '<middle', 'east/>', 'oil-backed', 'cryptocurrency', '<parkland', 'school/>', '<parkland', 'school/>', '<parkland', 'school/>', '<mike', 'pence/>', '<mike', 'pence/>', '<mike', 'pence/>', 'trumpenomics', 'trumpenomics', 'trumpenomics', 'four-session', 'four-session', 'four-session', '<berkshire', 'hathaway/>', 'anti-trump', 'anti-trump', 'anti-trump', 'schlapp', 'schlapp', 'schlapp', '<john', 'oliver/>', 'dnc-ukraine', 'dnc-ukraine', 'dnc-ukraine', 'westworld-style', 'westworld-style', 'westworld-style', '<hillary', 'clinton/>', '<hillary', 'clinton/>', '<north', 'korea/>', 'trump-russia', 'trump-russia', 'trump-russia', 'us-russian', 'us-russian', 'us-russian', 'skill-building', '<alex', 'jones/>', '<human', 'resources/>', '<human', 'resources/>', 'whcd', 'whcd', 'whcd', '<julian', 'assange/>', '<julian', 'assange/>', '<tough', 'love/>', 'wapo', 'wapo', '<james', 'comey/>', 'wapo', 'pro-putin', 'pro-putin', 'pro-putin', '@realdonaldtrump', '@realdonaldtrump', '@realdonaldtrump', 'strzok', 'strzok', 'strzok', '2-party', '2-party', '2-party', '<gun', 'control/>', '<donald', 'trump/>', '<donald', 'trump/>', '<donald', 'trump/>', '<joe', 'arpaio/>', '<joe', 'arpaio/>', '<civil', 'rights/>', '<civil', 'rights/>', 'cash-free', 'cash-free', 'cash-free', 'pussyhats', 'pussyhats', 'pussyhats', 'troway', 'poo-poo', 'troway', 'poo-poo', 'troway', 'poo-poo', '#metoo', '#metoo', '#metoo', 'scud-class', 'scud-class', 'scud-class', '<world', '3/>', '<world', '3/>', '<world', '3/>', 'gold-star', 'gold-star', 'gold-star', '<donald', 'trump/>', '<president', 'trump/>', '<president', 'trump/>', '<police', 'commissioner/>', '<police', 'commissioner/>', '<steve', 'bannon/>', '<steve', 'bannon/>', 'process-related', 'process-related', 'process-related', 'kompromat']\n",
            "Model initialised.\n",
            "Dataloaders created.\n"
          ],
          "name": "stdout"
        }
      ]
    },
    {
      "cell_type": "markdown",
      "metadata": {
        "id": "HeHtP2bipCJ0"
      },
      "source": [
        "#### Approach 2: No pre-trained representations"
      ]
    },
    {
      "cell_type": "code",
      "metadata": {
        "id": "79iNJHTvpCJ2",
        "scrolled": true
      },
      "source": [
        "train_and_dev = train_df['edit1']\n",
        "\n",
        "training_data, dev_data, training_y, dev_y = train_test_split(train_df['edit1'], train_df['label'],\n",
        "                                                                        test_size=(1-train_proportion),\n",
        "                                                                        random_state=42)\n",
        "\n",
        "# We train a Tf-idf model\n",
        "count_vect = CountVectorizer(stop_words='english')\n",
        "train_counts = count_vect.fit_transform(training_data)\n",
        "transformer = TfidfTransformer().fit(train_counts)\n",
        "train_counts = transformer.transform(train_counts)\n",
        "naive_model = MultinomialNB().fit(train_counts, training_y)\n",
        "\n",
        "# Train predictions\n",
        "predicted_train = naive_model.predict(train_counts)\n",
        "\n",
        "# Calculate Tf-idf using train and dev, and validate on dev:\n",
        "test_and_test_counts = count_vect.transform(train_and_dev)\n",
        "transformer = TfidfTransformer().fit(test_and_test_counts)\n",
        "\n",
        "test_counts = count_vect.transform(dev_data)\n",
        "\n",
        "test_counts = transformer.transform(test_counts)\n",
        "\n",
        "# Dev predictions\n",
        "predicted = naive_model.predict(test_counts)\n",
        "\n",
        "# We run the evaluation:\n",
        "print(\"\\nTrain performance:\")\n",
        "\n",
        "sse, mse = model_performance(predicted_train, training_y, True)\n",
        "\n",
        "print(\"\\nDev performance:\")\n",
        "sse, mse = model_performance(predicted, dev_y, True)"
      ],
      "execution_count": null,
      "outputs": []
    },
    {
      "cell_type": "markdown",
      "metadata": {
        "id": "1BAoHfeOpCJ3"
      },
      "source": [
        "#### Baseline for task 2"
      ]
    },
    {
      "cell_type": "code",
      "metadata": {
        "id": "p0MwFSbSpCJ4",
        "pycharm": {
          "name": "#%%\n"
        }
      },
      "source": [
        "# Baseline for the task\n",
        "pred_baseline = torch.zeros(len(dev_y)) + 1  # 1 is most common class\n",
        "print(\"\\nBaseline performance:\")\n",
        "sse, mse = model_performance(pred_baseline, torch.tensor(dev_y.values), True)"
      ],
      "execution_count": null,
      "outputs": []
    }
  ]
}